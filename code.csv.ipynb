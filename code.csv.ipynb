{
 "cells": [
  {
   "cell_type": "code",
   "execution_count": null,
   "id": "initial_id",
   "metadata": {
    "ExecuteTime": {
     "end_time": "2024-11-19T11:23:54.183219Z",
     "start_time": "2024-11-19T11:23:51.869785Z"
    },
    "collapsed": true
   },
   "outputs": [
    {
     "ename": "",
     "evalue": "",
     "output_type": "error",
     "traceback": [
      "\u001b[1;31mRunning cells with 'Python 3.11.2' requires the ipykernel package.\n",
      "\u001b[1;31mRun the following command to install 'ipykernel' into the Python environment. \n",
      "\u001b[1;31mCommand: '/bin/python3 -m pip install ipykernel -U --user --force-reinstall'"
     ]
    }
   ],
   "source": [
    "import pandas as pd\n",
    "import numpy as np\n",
    "import seaborn as sns\n",
    "import matplotlib.pyplot as plt\n",
    "from sklearn.model_selection import train_test_split\n",
    "from sklearn.ensemble import RandomForestClassifier\n",
    "from sklearn.metrics import accuracy_score, classification_report, confusion_matrix\n",
    "import pickle"
   ]
  },
  {
   "cell_type": "code",
   "execution_count": null,
   "id": "bb8eeb59",
   "metadata": {},
   "outputs": [],
   "source": []
  },
  {
   "cell_type": "code",
   "execution_count": null,
   "id": "f1f31b8f390a2635",
   "metadata": {
    "ExecuteTime": {
     "end_time": "2024-11-19T11:26:49.088325Z",
     "start_time": "2024-11-19T11:26:49.076435Z"
    },
    "collapsed": false
   },
   "outputs": [],
   "source": [
    "df=pd.read_csv(\"Crop_recommendation.csv\")"
   ]
  },
  {
   "cell_type": "code",
   "execution_count": null,
   "id": "338e65dd9b4b1c3b",
   "metadata": {
    "ExecuteTime": {
     "end_time": "2024-11-19T11:26:50.685277Z",
     "start_time": "2024-11-19T11:26:50.671937Z"
    },
    "collapsed": false
   },
   "outputs": [],
   "source": [
    "df.head()"
   ]
  },
  {
   "cell_type": "code",
   "execution_count": null,
   "id": "450b556aefa23161",
   "metadata": {
    "ExecuteTime": {
     "end_time": "2024-11-19T11:26:51.527457Z",
     "start_time": "2024-11-19T11:26:51.481355Z"
    },
    "collapsed": false
   },
   "outputs": [],
   "source": [
    "data.describe()"
   ]
  },
  {
   "cell_type": "code",
   "execution_count": null,
   "id": "3855df41cedb172",
   "metadata": {
    "ExecuteTime": {
     "end_time": "2024-11-19T11:26:52.225272Z",
     "start_time": "2024-11-19T11:26:52.208244Z"
    },
    "collapsed": false
   },
   "outputs": [],
   "source": [
    "df.info"
   ]
  },
  {
   "cell_type": "code",
   "execution_count": null,
   "id": "6233547786406fb",
   "metadata": {
    "ExecuteTime": {
     "end_time": "2024-11-19T11:26:53.211301Z",
     "start_time": "2024-11-19T11:26:53.198684Z"
    },
    "collapsed": false
   },
   "outputs": [],
   "source": [
    "df.isnull().sum()"
   ]
  },
  {
   "cell_type": "code",
   "execution_count": null,
   "id": "938ff54aad7a957a",
   "metadata": {
    "ExecuteTime": {
     "end_time": "2024-11-19T11:26:55.126415Z",
     "start_time": "2024-11-19T11:26:54.250305Z"
    },
    "collapsed": false
   },
   "outputs": [],
   "source": [
    "# Visualize the data\n",
    "plt.figure(figsize=(10, 6))\n",
    "sns.boxplot(data=df.drop(columns=['label']), orient='h')\n",
    "plt.title(\"Boxplot of Numerical Features\")\n",
    "plt.show()"
   ]
  },
  {
   "cell_type": "code",
   "execution_count": null,
   "id": "3a3c2e98559e7453",
   "metadata": {
    "ExecuteTime": {
     "end_time": "2024-11-19T11:26:57.268423Z",
     "start_time": "2024-11-19T11:26:56.216058Z"
    },
    "collapsed": false
   },
   "outputs": [],
   "source": [
    "plt.figure(figsize=(8, 6))\n",
    "sns.heatmap(df.corr(), annot=True, cmap='coolwarm')\n",
    "plt.title(\"Correlation Matrix\")\n",
    "plt.show()"
   ]
  },
  {
   "cell_type": "code",
   "execution_count": null,
   "id": "dca3f66d3dd75ec1",
   "metadata": {
    "ExecuteTime": {
     "end_time": "2024-11-19T11:27:15.221306Z",
     "start_time": "2024-11-19T11:27:14.473691Z"
    },
    "collapsed": false
   },
   "outputs": [],
   "source": [
    "# Distribution of crops\n",
    "plt.figure(figsize=(6, 4))\n",
    "sns.countplot(data=df, x='label')\n",
    "plt.title(\"Distribution of Labels (Crops)\")\n",
    "plt.show()"
   ]
  },
  {
   "cell_type": "code",
   "execution_count": null,
   "id": "4b554780ea587908",
   "metadata": {
    "ExecuteTime": {
     "end_time": "2024-11-19T11:27:25.106233Z",
     "start_time": "2024-11-19T11:27:25.098574Z"
    },
    "collapsed": false
   },
   "outputs": [],
   "source": [
    "# Adding interaction terms\n",
    "df['NPK_ratio'] = df['N'] / (df['P'] + df['K'] + 1)  # Avoid division by zero\n",
    "df['Temp_Rainfall'] = df['temperature'] * df['rainfall']"
   ]
  },
  {
   "cell_type": "code",
   "execution_count": null,
   "id": "b7defb83c95b1e",
   "metadata": {
    "ExecuteTime": {
     "end_time": "2024-11-19T11:27:27.334853Z",
     "start_time": "2024-11-19T11:27:27.317754Z"
    },
    "collapsed": false
   },
   "outputs": [],
   "source": [
    "# Adding normalized features\n",
    "for col in ['N', 'P', 'K', 'temperature', 'humidity', 'ph', 'rainfall']:\n",
    "    df[f'{col}_norm'] = (df[col] - df[col].mean()) / df[col].std()"
   ]
  },
  {
   "cell_type": "code",
   "execution_count": null,
   "id": "eb806701624e04ff",
   "metadata": {
    "ExecuteTime": {
     "end_time": "2024-11-19T11:27:42.260397Z",
     "start_time": "2024-11-19T11:27:42.252552Z"
    },
    "collapsed": false
   },
   "outputs": [],
   "source": [
    "X = df.drop(columns=['label', 'N', 'P', 'K', 'temperature', 'humidity', 'ph', 'rainfall'])  # Dropping original features\n",
    "y = df['label']"
   ]
  },
  {
   "cell_type": "markdown",
   "id": "31090df4ce4705db",
   "metadata": {
    "collapsed": false
   },
   "source": []
  },
  {
   "cell_type": "code",
   "execution_count": null,
   "id": "8f52a4f9d6bf31b5",
   "metadata": {
    "ExecuteTime": {
     "end_time": "2024-11-19T11:28:42.713773Z",
     "start_time": "2024-11-19T11:28:42.701600Z"
    },
    "collapsed": false
   },
   "outputs": [],
   "source": [
    "# Split the data\n",
    "X_train, X_test, y_train, y_test = train_test_split(X, y, test_size=0.2, random_state=42)"
   ]
  },
  {
   "cell_type": "code",
   "execution_count": null,
   "id": "4ecc64cb79967e8d",
   "metadata": {
    "ExecuteTime": {
     "end_time": "2024-11-19T11:28:45.742217Z",
     "start_time": "2024-11-19T11:28:44.013108Z"
    },
    "collapsed": false
   },
   "outputs": [],
   "source": [
    "# Train a Random Forest model\n",
    "model = RandomForestClassifier(random_state=42)\n",
    "model.fit(X_train, y_train)"
   ]
  },
  {
   "cell_type": "code",
   "execution_count": null,
   "id": "9416c2ce688fd9b8",
   "metadata": {
    "ExecuteTime": {
     "end_time": "2024-11-19T11:28:47.394056Z",
     "start_time": "2024-11-19T11:28:47.324537Z"
    },
    "collapsed": false
   },
   "outputs": [],
   "source": [
    "# Evaluate the model\n",
    "y_pred = model.predict(X_test)\n",
    "accuracy = accuracy_score(y_test, y_pred)\n",
    "print(f\"Model Accuracy: {accuracy * 100:.2f}%\\n\")"
   ]
  },
  {
   "cell_type": "code",
   "execution_count": null,
   "id": "508e8185a7077b41",
   "metadata": {
    "ExecuteTime": {
     "end_time": "2024-11-19T11:28:48.886952Z",
     "start_time": "2024-11-19T11:28:48.782997Z"
    },
    "collapsed": false
   },
   "outputs": [],
   "source": [
    "\n",
    "print(\"Classification Report:\")\n",
    "print(classification_report(y_test, y_pred))"
   ]
  },
  {
   "cell_type": "code",
   "execution_count": null,
   "id": "e41d216f07cc07c4",
   "metadata": {
    "ExecuteTime": {
     "end_time": "2024-11-19T11:28:51.911612Z",
     "start_time": "2024-11-19T11:28:51.887044Z"
    },
    "collapsed": false
   },
   "outputs": [],
   "source": [
    "# Save the model as a pickle file\n",
    "with open('crop_recommendation_model.pkl', 'wb') as f:\n",
    "    pickle.dump(model, f)\n",
    "\n",
    "print(\"Model saved as 'crop_recommendation_model.pkl'\") "
   ]
  },
  {
   "cell_type": "code",
   "execution_count": null,
   "id": "55e55d7eac86beab",
   "metadata": {
    "collapsed": false
   },
   "outputs": [],
   "source": []
  }
 ],
 "metadata": {
  "kernelspec": {
   "display_name": "Python 3",
   "language": "python",
   "name": "python3"
  },
  "language_info": {
   "codemirror_mode": {
    "name": "ipython",
    "version": 2
   },
   "file_extension": ".py",
   "mimetype": "text/x-python",
   "name": "python",
   "nbconvert_exporter": "python",
   "pygments_lexer": "ipython2",
   "version": "3.11.2"
  }
 },
 "nbformat": 4,
 "nbformat_minor": 5
}
